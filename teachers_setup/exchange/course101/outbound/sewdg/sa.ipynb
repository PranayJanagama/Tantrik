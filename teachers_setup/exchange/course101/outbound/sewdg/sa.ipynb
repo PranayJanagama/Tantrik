{
 "cells": [
  {
   "cell_type": "code",
   "execution_count": null,
   "id": "bd178a10-cfe8-4caa-ac0c-a9692088c7df",
   "metadata": {},
   "outputs": [],
   "source": [
    "def app():\n",
    "    return 1"
   ]
  },
  {
   "cell_type": "code",
   "execution_count": null,
   "id": "aada34d6-32f6-451d-8e59-8682e7408efe",
   "metadata": {
    "deletable": false,
    "editable": false,
    "nbgrader": {
     "cell_type": "code",
     "checksum": "47f5da03ca3b49c92ee34724f7db350c",
     "grade": true,
     "grade_id": "cell-20b19ad28bfe3e73",
     "locked": true,
     "points": 100,
     "schema_version": 3,
     "solution": false,
     "task": false
    }
   },
   "outputs": [],
   "source": [
    "assert app()"
   ]
  },
  {
   "cell_type": "code",
   "execution_count": null,
   "id": "695db37d-270e-47e7-86c3-bd53e8ec8855",
   "metadata": {},
   "outputs": [],
   "source": [
    "!nvidia-smi"
   ]
  },
  {
   "cell_type": "code",
   "execution_count": null,
   "id": "22bc3fa8-a5a5-45ae-876b-47cc80b21515",
   "metadata": {},
   "outputs": [],
   "source": []
  }
 ],
 "metadata": {
  "kernelspec": {
   "display_name": "Python 3 (ipykernel)",
   "language": "python",
   "name": "python3"
  },
  "language_info": {
   "codemirror_mode": {
    "name": "ipython",
    "version": 3
   },
   "file_extension": ".py",
   "mimetype": "text/x-python",
   "name": "python",
   "nbconvert_exporter": "python",
   "pygments_lexer": "ipython3",
   "version": "3.10.16"
  }
 },
 "nbformat": 4,
 "nbformat_minor": 5
}

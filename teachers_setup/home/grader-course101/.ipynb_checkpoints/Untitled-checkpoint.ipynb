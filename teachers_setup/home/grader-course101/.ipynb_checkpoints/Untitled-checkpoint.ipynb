{
 "cells": [
  {
   "cell_type": "code",
   "execution_count": 2,
   "id": "617914ce-6256-4879-b70e-e1bdf21c82da",
   "metadata": {},
   "outputs": [],
   "source": [
    "!touch /home/grader-course123/course123/t.txt"
   ]
  },
  {
   "cell_type": "code",
   "execution_count": 4,
   "id": "7e24b1ed-e254-4e69-8eee-7adcebce6d3c",
   "metadata": {},
   "outputs": [
    {
     "name": "stdout",
     "output_type": "stream",
     "text": [
      "\u001b[0m\u001b[01;32mgradebook.db\u001b[0m*  \u001b[01;32mnbgrader_config.py\u001b[0m*  \u001b[34;42mrelease\u001b[0m/  \u001b[34;42msource\u001b[0m/\n"
     ]
    }
   ],
   "source": [
    "ls /home/grader-course123/course123/"
   ]
  },
  {
   "cell_type": "code",
   "execution_count": 5,
   "id": "70df82a9-7af2-4136-b6cf-1d6782ddc019",
   "metadata": {},
   "outputs": [
    {
     "name": "stdout",
     "output_type": "stream",
     "text": [
      "Untitled.ipynb  \u001b[0m\u001b[34;42mcourse101\u001b[0m/\n"
     ]
    }
   ],
   "source": [
    "ls"
   ]
  },
  {
   "cell_type": "code",
   "execution_count": null,
   "id": "7eca1e9a-da51-48ff-a6f2-5da0297d5460",
   "metadata": {},
   "outputs": [],
   "source": []
  }
 ],
 "metadata": {
  "kernelspec": {
   "display_name": "Python 3 (ipykernel)",
   "language": "python",
   "name": "python3"
  },
  "language_info": {
   "codemirror_mode": {
    "name": "ipython",
    "version": 3
   },
   "file_extension": ".py",
   "mimetype": "text/x-python",
   "name": "python",
   "nbconvert_exporter": "python",
   "pygments_lexer": "ipython3",
   "version": "3.10.17"
  }
 },
 "nbformat": 4,
 "nbformat_minor": 5
}
